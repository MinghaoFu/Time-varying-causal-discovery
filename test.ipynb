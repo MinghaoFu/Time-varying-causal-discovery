{
 "cells": [
  {
   "cell_type": "code",
   "execution_count": 1,
   "metadata": {},
   "outputs": [],
   "source": [
    "import numpy as np\n",
    "\n",
    "def generate_mixing_matrix(d_sources: int, d_data=None, lin_type='uniform', cond_threshold=25, n_iter_4_cond=None,\n",
    "                           dtype=np.float32):\n",
    "    \"\"\"\n",
    "    Generate square linear mixing matrix\n",
    "    @param d_sources: dimension of the latent sources\n",
    "    @param d_data: dimension of the mixed data\n",
    "    @param lin_type: specifies the type of matrix entries; either `uniform` or `orthogonal`.\n",
    "    @param cond_threshold: higher bound on the condition number of the matrix to ensure well-conditioned problem\n",
    "    @param n_iter_4_cond: or instead, number of iteration to compute condition threshold of the mixing matrix.\n",
    "        cond_threshold is ignored in this case/\n",
    "    @param dtype: data type for data\n",
    "    @return:\n",
    "        A: mixing matrix\n",
    "    @rtype: np.ndarray\n",
    "    \"\"\"\n",
    "    if d_data is None:\n",
    "        d_data = d_sources\n",
    "\n",
    "    if lin_type == 'orthogonal':\n",
    "        A = (np.linalg.qr(np.random.uniform(-1, 1, (d_sources, d_data)))[0]).astype(dtype)\n",
    "\n",
    "    elif lin_type == 'uniform':\n",
    "        if n_iter_4_cond is None:\n",
    "            cond_thresh = cond_threshold\n",
    "        else:\n",
    "            cond_list = []\n",
    "            for _ in range(int(n_iter_4_cond)):\n",
    "                A = np.random.uniform(-1, 1, (d_sources, d_data)).astype(dtype)\n",
    "                for i in range(d_data):\n",
    "                    A[:, i] /= np.sqrt((A[:, i] ** 2).sum())\n",
    "                cond_list.append(np.linalg.cond(A))\n",
    "\n",
    "            cond_thresh = np.percentile(cond_list, 25)  # only accept those below 25% percentile\n",
    "\n",
    "        A = (np.random.uniform(0, 2, (d_sources, d_data)) - 1).astype(dtype)\n",
    "        for i in range(d_data):\n",
    "            A[:, i] /= np.sqrt((A[:, i] ** 2).sum())\n",
    "\n",
    "        while np.linalg.cond(A) > cond_thresh:\n",
    "            # generate a new A matrix!\n",
    "            A = (np.random.uniform(0, 2, (d_sources, d_data)) - 1).astype(dtype)\n",
    "            for i in range(d_data):\n",
    "                A[:, i] /= np.sqrt((A[:, i] ** 2).sum())\n",
    "    else:\n",
    "        raise ValueError('incorrect method')\n",
    "    return A\n"
   ]
  },
  {
   "cell_type": "code",
   "execution_count": 2,
   "metadata": {},
   "outputs": [
    {
     "data": {
      "text/plain": [
       "array([[ 0.683444  , -0.6756179 ,  0.60752434, -0.40626603, -0.785336  ,\n",
       "         0.6819457 ,  0.5893126 ,  0.99239546],\n",
       "       [-0.73000294, -0.73725194,  0.79430103,  0.91375476,  0.6190698 ,\n",
       "        -0.73140275,  0.8079051 ,  0.12309024]], dtype=float32)"
      ]
     },
     "execution_count": 2,
     "metadata": {},
     "output_type": "execute_result"
    }
   ],
   "source": [
    "generate_mixing_matrix(2, 8)"
   ]
  },
  {
   "cell_type": "code",
   "execution_count": null,
   "metadata": {},
   "outputs": [],
   "source": []
  }
 ],
 "metadata": {
  "kernelspec": {
   "display_name": "Python 3",
   "language": "python",
   "name": "python3"
  },
  "language_info": {
   "codemirror_mode": {
    "name": "ipython",
    "version": 3
   },
   "file_extension": ".py",
   "mimetype": "text/x-python",
   "name": "python",
   "nbconvert_exporter": "python",
   "pygments_lexer": "ipython3",
   "version": "3.11.4"
  }
 },
 "nbformat": 4,
 "nbformat_minor": 2
}
